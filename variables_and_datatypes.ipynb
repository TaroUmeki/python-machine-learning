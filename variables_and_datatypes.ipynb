{
 "cells": [
  {
   "cell_type": "code",
   "execution_count": 1,
   "id": "2ab1506d",
   "metadata": {},
   "outputs": [
    {
     "name": "stdout",
     "output_type": "stream",
     "text": [
      "名前: Python学習者 (型: <class 'str'>)\n",
      "年齢: 25 (型: <class 'int'>)\n",
      "身長: 175.5 (型: <class 'float'>)\n",
      "学生: True (型: <class 'bool'>)\n",
      "果物リスト: ['apple', 'banana', 'orange'] (型: <class 'list'>)\n",
      "座標: (10, 20) (型: <class 'tuple'>)\n"
     ]
    }
   ],
   "source": [
    "# 変数とデータ型の学習\n",
    "name = \"Python学習者\"\n",
    "age = 25\n",
    "height = 175.5\n",
    "is_student = True\n",
    "\n",
    "print(f\"名前: {name} (型: {type(name)})\")\n",
    "print(f\"年齢: {age} (型: {type(age)})\")\n",
    "print(f\"身長: {height} (型: {type(height)})\")\n",
    "print(f\"学生: {is_student} (型: {type(is_student)})\")\n",
    "\n",
    "# リストとタプルも試してみる\n",
    "fruits = [\"apple\", \"banana\", \"orange\"]\n",
    "coordinates = (10, 20)\n",
    "\n",
    "print(f\"果物リスト: {fruits} (型: {type(fruits)})\")\n",
    "print(f\"座標: {coordinates} (型: {type(coordinates)})\")"
   ]
  }
 ],
 "metadata": {
  "kernelspec": {
   "display_name": "Python 3 (ipykernel)",
   "language": "python",
   "name": "python3"
  },
  "language_info": {
   "codemirror_mode": {
    "name": "ipython",
    "version": 3
   },
   "file_extension": ".py",
   "mimetype": "text/x-python",
   "name": "python",
   "nbconvert_exporter": "python",
   "pygments_lexer": "ipython3",
   "version": "3.10.9"
  }
 },
 "nbformat": 4,
 "nbformat_minor": 5
}

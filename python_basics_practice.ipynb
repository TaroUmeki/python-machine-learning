{
 "cells": [
  {
   "cell_type": "code",
   "execution_count": 1,
   "id": "15190601",
   "metadata": {},
   "outputs": [
    {
     "name": "stdout",
     "output_type": "stream",
     "text": [
      "Hello, Python!\n",
      "14\n"
     ]
    }
   ],
   "source": [
    "print(\"Hello, Python!\")\n",
    "print(10 + 4)"
   ]
  },
  {
   "cell_type": "code",
   "execution_count": 2,
   "id": "70f0c695",
   "metadata": {},
   "outputs": [
    {
     "name": "stdout",
     "output_type": "stream",
     "text": [
      "=== Python算術演算子のテスト ===\n",
      "加算: 3 + 5 = 8\n",
      "減算: 10 - 4 = 6\n",
      "乗算: 10 * 4 = 40\n",
      "除算: 10 / 4 = 2.5\n",
      "切り捨て除算: 10 // 4 = 2\n",
      "剰余: 10 % 3 = 1\n",
      "累乗: 10 ** 3 = 1000\n"
     ]
    }
   ],
   "source": [
    "# 基本的な算術演算子のテスト\n",
    "print(\"=== Python算術演算子のテスト ===\")\n",
    "print(\"加算: 3 + 5 =\", 3 + 5)\n",
    "print(\"減算: 10 - 4 =\", 10 - 4)\n",
    "print(\"乗算: 10 * 4 =\", 10 * 4)\n",
    "print(\"除算: 10 / 4 =\", 10 / 4)\n",
    "print(\"切り捨て除算: 10 // 4 =\", 10 // 4)\n",
    "print(\"剰余: 10 % 3 =\", 10 % 3)\n",
    "print(\"累乗: 10 ** 3 =\", 10 ** 3)"
   ]
  }
 ],
 "metadata": {
  "kernelspec": {
   "display_name": "Python 3 (ipykernel)",
   "language": "python",
   "name": "python3"
  },
  "language_info": {
   "codemirror_mode": {
    "name": "ipython",
    "version": 3
   },
   "file_extension": ".py",
   "mimetype": "text/x-python",
   "name": "python",
   "nbconvert_exporter": "python",
   "pygments_lexer": "ipython3",
   "version": "3.10.9"
  }
 },
 "nbformat": 4,
 "nbformat_minor": 5
}
